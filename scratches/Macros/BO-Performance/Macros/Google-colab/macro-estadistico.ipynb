from google.colab import files
import pandas as pd
import time

# Upload the excel file
uploaded_file = files.upload()
input_file_name = next(iter(uploaded_file))  # use the first file uploaded
output_file_name = "output.csv"  # specify the output file name

class DataProcessor:
    COLUMNS_DATA = [
        {"save to": "<replace with your column name>", "column to check": "<replace with your column name>", "threshold": 5, "operator": "gt"},
        {"save to": "<replace with your column name>", "column to check": "<replace with your column name>", "threshold": 0, "operator": "gt"},
        {"save to": "<replace with your column name>", "column to check": "<replace with your column name>", "threshold": -5, "operator": "lt"}
    ]

    def __init__(self, processor):
        self.processor = processor

    def process(self, INPUT_FILE_NAME, OUTPUT_FILE_NAME):
        start = time.time()
        self.processor.process(INPUT_FILE_NAME, OUTPUT_FILE_NAME, self.COLUMNS_DATA)
        end = time.time()
        print(f"Execution time: {end - start:.2f} seconds")

class PandasDataProcessor:
    def process(self, INPUT_FILE_NAME, OUTPUT_FILE_NAME, COLUMNS_DATA):
        first_one = True
        # Loading the excel file
        df = pd.read_excel(INPUT_FILE_NAME)
        df = self.perform_operations(df, COLUMNS_DATA)

        if first_one:  # if first chunk, create the csv file, else it exists so append
            df.to_csv(OUTPUT_FILE_NAME, index=False)
            first_one = False
        else:
            df.to_csv(OUTPUT_FILE_NAME, mode="a", header=False, index=False)

    @staticmethod
    def perform_operations(df, COLUMNS_DATA):
        for column_data in COLUMNS_DATA:
            if column_data["operator"] == "gt":
                df.loc[df[column_data["column to check"]] > column_data["threshold"], column_data["save to"]] = 1
            elif column_data["operator"] == "lt":
                df.loc[df[column_data["column to check"]] < column_data["threshold"], column_data["save to"]] = 1
        return df

data_processor = DataProcessor(PandasDataProcessor())
data_processor.process(input_file_name, output_file_name)

# Download the output file
files.download(output_file_name)